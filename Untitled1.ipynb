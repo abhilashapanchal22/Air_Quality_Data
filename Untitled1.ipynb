{
 "cells": [
  {
   "cell_type": "code",
   "execution_count": 75,
   "id": "e804b428-8e86-4c34-8d23-37ba63f85a5a",
   "metadata": {},
   "outputs": [],
   "source": [
    "import pandas as pd\n",
    "import numpy as py\n",
    "import matplotlib as plt\n",
    "import seaborn as se"
   ]
  },
  {
   "cell_type": "code",
   "execution_count": 7,
   "id": "2608d058-d3c3-4312-9815-e6402ccdfe59",
   "metadata": {},
   "outputs": [],
   "source": [
    "data_air = pd.read_csv(r\"C:\\Users\\shash\\Desktop\\DA\\project\\air-quality-data.csv\")"
   ]
  },
  {
   "cell_type": "code",
   "execution_count": 8,
   "id": "1c6249b4-f877-458d-8fd2-bdbdaa87abe6",
   "metadata": {},
   "outputs": [
    {
     "name": "stdout",
     "output_type": "stream",
     "text": [
      "<class 'pandas.core.frame.DataFrame'>\n",
      "RangeIndex: 31861 entries, 0 to 31860\n",
      "Data columns (total 2 columns):\n",
      " #   Column     Non-Null Count  Dtype  \n",
      "---  ------     --------------  -----  \n",
      " 0   Timestamp  31861 non-null  object \n",
      " 1   PM2.5      31861 non-null  float64\n",
      "dtypes: float64(1), object(1)\n",
      "memory usage: 498.0+ KB\n"
     ]
    }
   ],
   "source": [
    "data_air.info()"
   ]
  },
  {
   "cell_type": "code",
   "execution_count": 9,
   "id": "d4b390a6-1543-4ee7-8c86-d1c85aabe741",
   "metadata": {},
   "outputs": [
    {
     "data": {
      "text/html": [
       "<div>\n",
       "<style scoped>\n",
       "    .dataframe tbody tr th:only-of-type {\n",
       "        vertical-align: middle;\n",
       "    }\n",
       "\n",
       "    .dataframe tbody tr th {\n",
       "        vertical-align: top;\n",
       "    }\n",
       "\n",
       "    .dataframe thead th {\n",
       "        text-align: right;\n",
       "    }\n",
       "</style>\n",
       "<table border=\"1\" class=\"dataframe\">\n",
       "  <thead>\n",
       "    <tr style=\"text-align: right;\">\n",
       "      <th></th>\n",
       "      <th>Timestamp</th>\n",
       "      <th>PM2.5</th>\n",
       "    </tr>\n",
       "  </thead>\n",
       "  <tbody>\n",
       "    <tr>\n",
       "      <th>0</th>\n",
       "      <td>01-01-2018 00:00</td>\n",
       "      <td>90.19</td>\n",
       "    </tr>\n",
       "    <tr>\n",
       "      <th>1</th>\n",
       "      <td>01-01-2018 01:00</td>\n",
       "      <td>86.98</td>\n",
       "    </tr>\n",
       "    <tr>\n",
       "      <th>2</th>\n",
       "      <td>01-01-2018 02:00</td>\n",
       "      <td>86.06</td>\n",
       "    </tr>\n",
       "    <tr>\n",
       "      <th>3</th>\n",
       "      <td>01-01-2018 03:00</td>\n",
       "      <td>94.04</td>\n",
       "    </tr>\n",
       "    <tr>\n",
       "      <th>4</th>\n",
       "      <td>01-01-2018 04:00</td>\n",
       "      <td>108.78</td>\n",
       "    </tr>\n",
       "  </tbody>\n",
       "</table>\n",
       "</div>"
      ],
      "text/plain": [
       "          Timestamp   PM2.5\n",
       "0  01-01-2018 00:00   90.19\n",
       "1  01-01-2018 01:00   86.98\n",
       "2  01-01-2018 02:00   86.06\n",
       "3  01-01-2018 03:00   94.04\n",
       "4  01-01-2018 04:00  108.78"
      ]
     },
     "execution_count": 9,
     "metadata": {},
     "output_type": "execute_result"
    }
   ],
   "source": [
    "data_air.head()"
   ]
  },
  {
   "cell_type": "code",
   "execution_count": null,
   "id": "5ee0bc17-291c-4c10-ab84-9e8d6d47348a",
   "metadata": {},
   "outputs": [],
   "source": [
    "#converting timestamp column to datetime object"
   ]
  },
  {
   "cell_type": "code",
   "execution_count": 26,
   "id": "b74ff5a4-a905-42d9-af24-0adaf3722508",
   "metadata": {},
   "outputs": [],
   "source": [
    "data_air[\"Timestamp\"] = pd.to_datetime(data_air[\"Timestamp\"])"
   ]
  },
  {
   "cell_type": "code",
   "execution_count": 28,
   "id": "5fc9fd62-a954-41e2-af05-f4f593f7ce91",
   "metadata": {},
   "outputs": [
    {
     "name": "stdout",
     "output_type": "stream",
     "text": [
      "<class 'pandas.core.frame.DataFrame'>\n",
      "RangeIndex: 31861 entries, 0 to 31860\n",
      "Data columns (total 2 columns):\n",
      " #   Column     Non-Null Count  Dtype         \n",
      "---  ------     --------------  -----         \n",
      " 0   Timestamp  31861 non-null  datetime64[ns]\n",
      " 1   PM2.5      31861 non-null  float64       \n",
      "dtypes: datetime64[ns](1), float64(1)\n",
      "memory usage: 498.0 KB\n"
     ]
    }
   ],
   "source": [
    "data_air.info()"
   ]
  },
  {
   "cell_type": "code",
   "execution_count": 51,
   "id": "82db6945-869c-4878-9f60-1aae1b76e593",
   "metadata": {},
   "outputs": [
    {
     "data": {
      "text/plain": [
       "0        2018\n",
       "1        2018\n",
       "2        2018\n",
       "3        2018\n",
       "4        2018\n",
       "         ... \n",
       "31856    2021\n",
       "31857    2021\n",
       "31858    2021\n",
       "31859    2021\n",
       "31860    2021\n",
       "Name: Timestamp, Length: 31861, dtype: int64"
      ]
     },
     "execution_count": 51,
     "metadata": {},
     "output_type": "execute_result"
    }
   ],
   "source": [
    "data_air[\"Timestamp\"].dt.year"
   ]
  },
  {
   "cell_type": "code",
   "execution_count": null,
   "id": "b0e90cc5-c1cb-462f-ba90-4d29e53f07c8",
   "metadata": {},
   "outputs": [],
   "source": [
    "#separating year from datetime "
   ]
  },
  {
   "cell_type": "code",
   "execution_count": 31,
   "id": "2d55da76-3557-45ff-bcb8-a396cac28e77",
   "metadata": {},
   "outputs": [],
   "source": [
    "data_air[\"Year\"] = data_air[\"Timestamp\"].dt.year"
   ]
  },
  {
   "cell_type": "code",
   "execution_count": 32,
   "id": "26e9f615-6867-412d-8a01-9ef3c04effe2",
   "metadata": {},
   "outputs": [
    {
     "name": "stdout",
     "output_type": "stream",
     "text": [
      "<class 'pandas.core.frame.DataFrame'>\n",
      "RangeIndex: 31861 entries, 0 to 31860\n",
      "Data columns (total 3 columns):\n",
      " #   Column     Non-Null Count  Dtype         \n",
      "---  ------     --------------  -----         \n",
      " 0   Timestamp  31861 non-null  datetime64[ns]\n",
      " 1   PM2.5      31861 non-null  float64       \n",
      " 2   Year       31861 non-null  int64         \n",
      "dtypes: datetime64[ns](1), float64(1), int64(1)\n",
      "memory usage: 746.9 KB\n"
     ]
    }
   ],
   "source": [
    "data_air.info()"
   ]
  },
  {
   "cell_type": "code",
   "execution_count": null,
   "id": "4be74721-e56e-4821-af6e-4d0a85a35e67",
   "metadata": {},
   "outputs": [],
   "source": [
    "#finding the average of timestamp and PM2.5"
   ]
  },
  {
   "cell_type": "code",
   "execution_count": 40,
   "id": "56b90df0-1920-4dbb-8360-b9e123e13c19",
   "metadata": {},
   "outputs": [],
   "source": [
    "year_avg = data_air.groupby(\"Year\")[\"PM2.5\"].mean()"
   ]
  },
  {
   "cell_type": "code",
   "execution_count": 41,
   "id": "de671564-ed40-4c97-8865-f4ae2a48c4f7",
   "metadata": {},
   "outputs": [
    {
     "data": {
      "text/plain": [
       "Year\n",
       "2018    54.468449\n",
       "2019    49.511273\n",
       "2020    42.386302\n",
       "2021    44.850633\n",
       "Name: PM2.5, dtype: float64"
      ]
     },
     "execution_count": 41,
     "metadata": {},
     "output_type": "execute_result"
    }
   ],
   "source": [
    "year_avg"
   ]
  },
  {
   "cell_type": "code",
   "execution_count": null,
   "id": "f32f4046-ebf4-45d3-b9c7-e7e7d239d2d9",
   "metadata": {},
   "outputs": [],
   "source": [
    "#plot"
   ]
  },
  {
   "cell_type": "code",
   "execution_count": 42,
   "id": "039efeb2-dcc1-489b-97e9-515d16dc0c26",
   "metadata": {},
   "outputs": [
    {
     "data": {
      "text/plain": [
       "<AxesSubplot:xlabel='Year'>"
      ]
     },
     "execution_count": 42,
     "metadata": {},
     "output_type": "execute_result"
    },
    {
     "data": {
      "image/png": "[encoded data removed]",
      "text/plain": [
       "<Figure size 1500x500 with 1 Axes>"
      ]
     },
     "metadata": {},
     "output_type": "display_data"
    }
   ],
   "source": [
    "year_avg.plot(kind = \"line\", figsize = (15,5))"
   ]
  },
  {
   "cell_type": "code",
   "execution_count": null,
   "id": "1d0d53f8-2292-47cd-be2c-9cf7ca5e02d8",
   "metadata": {},
   "outputs": [],
   "source": [
    "#showing average pollution monthwise through area plot"
   ]
  },
  {
   "cell_type": "code",
   "execution_count": 43,
   "id": "096df1de-9091-4f8e-b0c7-d5966d314955",
   "metadata": {},
   "outputs": [
    {
     "data": {
      "text/html": [
       "<div>\n",
       "<style scoped>\n",
       "    .dataframe tbody tr th:only-of-type {\n",
       "        vertical-align: middle;\n",
       "    }\n",
       "\n",
       "    .dataframe tbody tr th {\n",
       "        vertical-align: top;\n",
       "    }\n",
       "\n",
       "    .dataframe thead th {\n",
       "        text-align: right;\n",
       "    }\n",
       "</style>\n",
       "<table border=\"1\" class=\"dataframe\">\n",
       "  <thead>\n",
       "    <tr style=\"text-align: right;\">\n",
       "      <th></th>\n",
       "      <th>Timestamp</th>\n",
       "      <th>PM2.5</th>\n",
       "      <th>Year</th>\n",
       "    </tr>\n",
       "  </thead>\n",
       "  <tbody>\n",
       "    <tr>\n",
       "      <th>0</th>\n",
       "      <td>2018-01-01 00:00:00</td>\n",
       "      <td>90.19</td>\n",
       "      <td>2018</td>\n",
       "    </tr>\n",
       "    <tr>\n",
       "      <th>1</th>\n",
       "      <td>2018-01-01 01:00:00</td>\n",
       "      <td>86.98</td>\n",
       "      <td>2018</td>\n",
       "    </tr>\n",
       "    <tr>\n",
       "      <th>2</th>\n",
       "      <td>2018-01-01 02:00:00</td>\n",
       "      <td>86.06</td>\n",
       "      <td>2018</td>\n",
       "    </tr>\n",
       "    <tr>\n",
       "      <th>3</th>\n",
       "      <td>2018-01-01 03:00:00</td>\n",
       "      <td>94.04</td>\n",
       "      <td>2018</td>\n",
       "    </tr>\n",
       "    <tr>\n",
       "      <th>4</th>\n",
       "      <td>2018-01-01 04:00:00</td>\n",
       "      <td>108.78</td>\n",
       "      <td>2018</td>\n",
       "    </tr>\n",
       "  </tbody>\n",
       "</table>\n",
       "</div>"
      ],
      "text/plain": [
       "            Timestamp   PM2.5  Year\n",
       "0 2018-01-01 00:00:00   90.19  2018\n",
       "1 2018-01-01 01:00:00   86.98  2018\n",
       "2 2018-01-01 02:00:00   86.06  2018\n",
       "3 2018-01-01 03:00:00   94.04  2018\n",
       "4 2018-01-01 04:00:00  108.78  2018"
      ]
     },
     "execution_count": 43,
     "metadata": {},
     "output_type": "execute_result"
    }
   ],
   "source": [
    "data_air.head()"
   ]
  },
  {
   "cell_type": "code",
   "execution_count": 45,
   "id": "28be1f19-c7ba-4b80-b82c-d413d2610d6c",
   "metadata": {},
   "outputs": [],
   "source": [
    "data_air[\"Timestamp\"] = pd.to_datetime(data_air[\"Timestamp\"])"
   ]
  },
  {
   "cell_type": "code",
   "execution_count": 53,
   "id": "f0ba74f9-19bc-4333-ad65-567fb071baee",
   "metadata": {},
   "outputs": [],
   "source": [
    "data_air[\"Month\"] = data_air[\"Timestamp\"].dt.month"
   ]
  },
  {
   "cell_type": "code",
   "execution_count": 54,
   "id": "f191915d-11a1-482b-b718-760b4f7c86e8",
   "metadata": {},
   "outputs": [
    {
     "data": {
      "text/plain": [
       "0         1\n",
       "1         1\n",
       "2         1\n",
       "3         1\n",
       "4         1\n",
       "         ..\n",
       "31856    12\n",
       "31857    12\n",
       "31858    12\n",
       "31859    12\n",
       "31860    12\n",
       "Name: Timestamp, Length: 31861, dtype: int64"
      ]
     },
     "execution_count": 54,
     "metadata": {},
     "output_type": "execute_result"
    }
   ],
   "source": [
    "data_air[\"Timestamp\"].dt.month"
   ]
  },
  {
   "cell_type": "code",
   "execution_count": 56,
   "id": "ac920d0b-3f9b-4e67-8880-57f8c3a7e94f",
   "metadata": {},
   "outputs": [
    {
     "name": "stdout",
     "output_type": "stream",
     "text": [
      "<class 'pandas.core.frame.DataFrame'>\n",
      "RangeIndex: 31861 entries, 0 to 31860\n",
      "Data columns (total 4 columns):\n",
      " #   Column     Non-Null Count  Dtype         \n",
      "---  ------     --------------  -----         \n",
      " 0   Timestamp  31861 non-null  datetime64[ns]\n",
      " 1   PM2.5      31861 non-null  float64       \n",
      " 2   Year       31861 non-null  int64         \n",
      " 3   Month      31861 non-null  int64         \n",
      "dtypes: datetime64[ns](1), float64(1), int64(2)\n",
      "memory usage: 995.8 KB\n"
     ]
    }
   ],
   "source": [
    "data_air.info()"
   ]
  },
  {
   "cell_type": "code",
   "execution_count": 77,
   "id": "4c3c5835-c0a1-48ed-8475-6f60a576ad2e",
   "metadata": {},
   "outputs": [],
   "source": [
    "month_avg = data_air.groupby(\"Month\")[\"PM2.5\"].mean()"
   ]
  },
  {
   "cell_type": "code",
   "execution_count": 78,
   "id": "bf8c6275-d8a2-47c4-bff4-367aca85133b",
   "metadata": {},
   "outputs": [
    {
     "data": {
      "text/plain": [
       "Month\n",
       "1     65.829067\n",
       "2     55.264291\n",
       "3     49.666820\n",
       "4     43.625814\n",
       "5     39.816285\n",
       "6     35.817151\n",
       "7     31.884161\n",
       "8     31.928300\n",
       "9     36.324103\n",
       "10    51.514817\n",
       "11    60.017498\n",
       "12    64.614865\n",
       "Name: PM2.5, dtype: float64"
      ]
     },
     "execution_count": 78,
     "metadata": {},
     "output_type": "execute_result"
    }
   ],
   "source": [
    "month_avg"
   ]
  },
  {
   "cell_type": "code",
   "execution_count": 79,
   "id": "73439821-e8c1-41ea-8fee-f3b84b62053f",
   "metadata": {},
   "outputs": [
    {
     "data": {
      "text/plain": [
       "<AxesSubplot:xlabel='Month'>"
      ]
     },
     "execution_count": 79,
     "metadata": {},
     "output_type": "execute_result"
    },
    {
     "data": {
      "image/png": "[encoded data removed]",
      "text/plain": [
       "<Figure size 1200x500 with 1 Axes>"
      ]
     },
     "metadata": {},
     "output_type": "display_data"
    }
   ],
   "source": [
    "month_avg.plot(kind = \"area\", figsize = (12,5))"
   ]
  },
  {
   "cell_type": "code",
   "execution_count": null,
   "id": "f3934476-47cb-4605-a3c3-9410ac87c914",
   "metadata": {},
   "outputs": [],
   "source": [
    "# hourwise average pollution with bar graph"
   ]
  },
  {
   "cell_type": "code",
   "execution_count": 80,
   "id": "2644690b-5a00-4d36-8389-69b427eeb1de",
   "metadata": {},
   "outputs": [
    {
     "data": {
      "text/html": [
       "<div>\n",
       "<style scoped>\n",
       "    .dataframe tbody tr th:only-of-type {\n",
       "        vertical-align: middle;\n",
       "    }\n",
       "\n",
       "    .dataframe tbody tr th {\n",
       "        vertical-align: top;\n",
       "    }\n",
       "\n",
       "    .dataframe thead th {\n",
       "        text-align: right;\n",
       "    }\n",
       "</style>\n",
       "<table border=\"1\" class=\"dataframe\">\n",
       "  <thead>\n",
       "    <tr style=\"text-align: right;\">\n",
       "      <th></th>\n",
       "      <th>Timestamp</th>\n",
       "      <th>PM2.5</th>\n",
       "      <th>Year</th>\n",
       "      <th>Month</th>\n",
       "    </tr>\n",
       "  </thead>\n",
       "  <tbody>\n",
       "    <tr>\n",
       "      <th>0</th>\n",
       "      <td>2018-01-01 00:00:00</td>\n",
       "      <td>90.19</td>\n",
       "      <td>2018</td>\n",
       "      <td>1</td>\n",
       "    </tr>\n",
       "    <tr>\n",
       "      <th>1</th>\n",
       "      <td>2018-01-01 01:00:00</td>\n",
       "      <td>86.98</td>\n",
       "      <td>2018</td>\n",
       "      <td>1</td>\n",
       "    </tr>\n",
       "    <tr>\n",
       "      <th>2</th>\n",
       "      <td>2018-01-01 02:00:00</td>\n",
       "      <td>86.06</td>\n",
       "      <td>2018</td>\n",
       "      <td>1</td>\n",
       "    </tr>\n",
       "    <tr>\n",
       "      <th>3</th>\n",
       "      <td>2018-01-01 03:00:00</td>\n",
       "      <td>94.04</td>\n",
       "      <td>2018</td>\n",
       "      <td>1</td>\n",
       "    </tr>\n",
       "    <tr>\n",
       "      <th>4</th>\n",
       "      <td>2018-01-01 04:00:00</td>\n",
       "      <td>108.78</td>\n",
       "      <td>2018</td>\n",
       "      <td>1</td>\n",
       "    </tr>\n",
       "  </tbody>\n",
       "</table>\n",
       "</div>"
      ],
      "text/plain": [
       "            Timestamp   PM2.5  Year  Month\n",
       "0 2018-01-01 00:00:00   90.19  2018      1\n",
       "1 2018-01-01 01:00:00   86.98  2018      1\n",
       "2 2018-01-01 02:00:00   86.06  2018      1\n",
       "3 2018-01-01 03:00:00   94.04  2018      1\n",
       "4 2018-01-01 04:00:00  108.78  2018      1"
      ]
     },
     "execution_count": 80,
     "metadata": {},
     "output_type": "execute_result"
    }
   ],
   "source": [
    "data_air.head()"
   ]
  },
  {
   "cell_type": "code",
   "execution_count": 82,
   "id": "4da5ccd8-26a1-41bc-b561-2c43bb2f9752",
   "metadata": {},
   "outputs": [],
   "source": [
    "data_air[\"Timestamp\"] = pd.to_datetime(data_air[\"Timestamp\"])"
   ]
  },
  {
   "cell_type": "code",
   "execution_count": 87,
   "id": "ba4b72bd-ad66-46fb-ab2c-0fad675f707e",
   "metadata": {},
   "outputs": [],
   "source": [
    "data_air[\"Hour\"] = data_air[\"Timestamp\"].dt.hour"
   ]
  },
  {
   "cell_type": "code",
   "execution_count": 88,
   "id": "f94dee35-9ef6-4a7b-ad64-a626702001e5",
   "metadata": {},
   "outputs": [
    {
     "data": {
      "text/plain": [
       "0         0\n",
       "1         1\n",
       "2         2\n",
       "3         3\n",
       "4         4\n",
       "         ..\n",
       "31856    19\n",
       "31857    20\n",
       "31858    21\n",
       "31859    22\n",
       "31860    23\n",
       "Name: Timestamp, Length: 31861, dtype: int64"
      ]
     },
     "execution_count": 88,
     "metadata": {},
     "output_type": "execute_result"
    }
   ],
   "source": [
    "data_air[\"Timestamp\"].dt.hour"
   ]
  },
  {
   "cell_type": "code",
   "execution_count": 89,
   "id": "45ef29bb-a752-4e06-a981-4a11f9c9efd7",
   "metadata": {},
   "outputs": [
    {
     "data": {
      "text/html": [
       "<div>\n",
       "<style scoped>\n",
       "    .dataframe tbody tr th:only-of-type {\n",
       "        vertical-align: middle;\n",
       "    }\n",
       "\n",
       "    .dataframe tbody tr th {\n",
       "        vertical-align: top;\n",
       "    }\n",
       "\n",
       "    .dataframe thead th {\n",
       "        text-align: right;\n",
       "    }\n",
       "</style>\n",
       "<table border=\"1\" class=\"dataframe\">\n",
       "  <thead>\n",
       "    <tr style=\"text-align: right;\">\n",
       "      <th></th>\n",
       "      <th>Timestamp</th>\n",
       "      <th>PM2.5</th>\n",
       "      <th>Year</th>\n",
       "      <th>Month</th>\n",
       "      <th>Hour</th>\n",
       "    </tr>\n",
       "  </thead>\n",
       "  <tbody>\n",
       "    <tr>\n",
       "      <th>0</th>\n",
       "      <td>2018-01-01 00:00:00</td>\n",
       "      <td>90.19</td>\n",
       "      <td>2018</td>\n",
       "      <td>1</td>\n",
       "      <td>0</td>\n",
       "    </tr>\n",
       "    <tr>\n",
       "      <th>1</th>\n",
       "      <td>2018-01-01 01:00:00</td>\n",
       "      <td>86.98</td>\n",
       "      <td>2018</td>\n",
       "      <td>1</td>\n",
       "      <td>1</td>\n",
       "    </tr>\n",
       "    <tr>\n",
       "      <th>2</th>\n",
       "      <td>2018-01-01 02:00:00</td>\n",
       "      <td>86.06</td>\n",
       "      <td>2018</td>\n",
       "      <td>1</td>\n",
       "      <td>2</td>\n",
       "    </tr>\n",
       "    <tr>\n",
       "      <th>3</th>\n",
       "      <td>2018-01-01 03:00:00</td>\n",
       "      <td>94.04</td>\n",
       "      <td>2018</td>\n",
       "      <td>1</td>\n",
       "      <td>3</td>\n",
       "    </tr>\n",
       "    <tr>\n",
       "      <th>4</th>\n",
       "      <td>2018-01-01 04:00:00</td>\n",
       "      <td>108.78</td>\n",
       "      <td>2018</td>\n",
       "      <td>1</td>\n",
       "      <td>4</td>\n",
       "    </tr>\n",
       "  </tbody>\n",
       "</table>\n",
       "</div>"
      ],
      "text/plain": [
       "            Timestamp   PM2.5  Year  Month  Hour\n",
       "0 2018-01-01 00:00:00   90.19  2018      1     0\n",
       "1 2018-01-01 01:00:00   86.98  2018      1     1\n",
       "2 2018-01-01 02:00:00   86.06  2018      1     2\n",
       "3 2018-01-01 03:00:00   94.04  2018      1     3\n",
       "4 2018-01-01 04:00:00  108.78  2018      1     4"
      ]
     },
     "execution_count": 89,
     "metadata": {},
     "output_type": "execute_result"
    }
   ],
   "source": [
    "data_air.head()"
   ]
  },
  {
   "cell_type": "code",
   "execution_count": 90,
   "id": "7ba341ec-9dbe-4ad4-aa45-f75b67e59bb6",
   "metadata": {},
   "outputs": [
    {
     "data": {
      "text/plain": [
       "Hour\n",
       "0     47.068769\n",
       "1     46.403946\n",
       "2     46.952281\n",
       "3     49.150798\n",
       "4     51.296204\n",
       "5     51.908798\n",
       "6     49.907545\n",
       "7     47.518554\n",
       "8     44.996127\n",
       "9     42.681736\n",
       "10    40.931766\n",
       "11    39.393820\n",
       "12    38.789992\n",
       "13    39.323346\n",
       "14    42.638162\n",
       "15    47.500464\n",
       "16    51.244844\n",
       "17    53.669757\n",
       "18    54.317363\n",
       "19    54.120371\n",
       "20    52.784130\n",
       "21    51.383525\n",
       "22    49.940615\n",
       "23    48.538064\n",
       "Name: PM2.5, dtype: float64"
      ]
     },
     "execution_count": 90,
     "metadata": {},
     "output_type": "execute_result"
    }
   ],
   "source": [
    "data_air.groupby(\"Hour\")[\"PM2.5\"].mean()"
   ]
  },
  {
   "cell_type": "code",
   "execution_count": 91,
   "id": "60f52977-ae2e-4696-a82e-65bf232929f6",
   "metadata": {},
   "outputs": [],
   "source": [
    "hour_avg = data_air.groupby(\"Hour\")[\"PM2.5\"].mean()"
   ]
  },
  {
   "cell_type": "code",
   "execution_count": 92,
   "id": "5a5a862f-5d47-4c48-812d-752ba8431fb8",
   "metadata": {},
   "outputs": [
    {
     "data": {
      "text/plain": [
       "Hour\n",
       "0     47.068769\n",
       "1     46.403946\n",
       "2     46.952281\n",
       "3     49.150798\n",
       "4     51.296204\n",
       "5     51.908798\n",
       "6     49.907545\n",
       "7     47.518554\n",
       "8     44.996127\n",
       "9     42.681736\n",
       "10    40.931766\n",
       "11    39.393820\n",
       "12    38.789992\n",
       "13    39.323346\n",
       "14    42.638162\n",
       "15    47.500464\n",
       "16    51.244844\n",
       "17    53.669757\n",
       "18    54.317363\n",
       "19    54.120371\n",
       "20    52.784130\n",
       "21    51.383525\n",
       "22    49.940615\n",
       "23    48.538064\n",
       "Name: PM2.5, dtype: float64"
      ]
     },
     "execution_count": 92,
     "metadata": {},
     "output_type": "execute_result"
    }
   ],
   "source": [
    "hour_avg"
   ]
  },
  {
   "cell_type": "code",
   "execution_count": 93,
   "id": "ec1585d1-87df-4121-a01b-6c6a0a76eef7",
   "metadata": {},
   "outputs": [
    {
     "data": {
      "text/plain": [
       "<AxesSubplot:xlabel='Hour'>"
      ]
     },
     "execution_count": 93,
     "metadata": {},
     "output_type": "execute_result"
    },
    {
     "data": {
      "image/png": "[encoded data removed]",
      "text/plain": [
       "<Figure size 1200x500 with 1 Axes>"
      ]
     },
     "metadata": {},
     "output_type": "display_data"
    }
   ],
   "source": [
    "hour_avg.plot(kind = \"bar\", figsize = (12,5))"
   ]
  },
  {
   "cell_type": "code",
   "execution_count": null,
   "id": "823d6ae0-bdca-49a7-a517-74df1a24ea72",
   "metadata": {},
   "outputs": [],
   "source": [
    "#months where the airquality is very unhealthy"
   ]
  },
  {
   "cell_type": "code",
   "execution_count": 94,
   "id": "3634010d-72d2-4d8f-96c5-332f99b2d3fd",
   "metadata": {},
   "outputs": [
    {
     "data": {
      "text/html": [
       "<div>\n",
       "<style scoped>\n",
       "    .dataframe tbody tr th:only-of-type {\n",
       "        vertical-align: middle;\n",
       "    }\n",
       "\n",
       "    .dataframe tbody tr th {\n",
       "        vertical-align: top;\n",
       "    }\n",
       "\n",
       "    .dataframe thead th {\n",
       "        text-align: right;\n",
       "    }\n",
       "</style>\n",
       "<table border=\"1\" class=\"dataframe\">\n",
       "  <thead>\n",
       "    <tr style=\"text-align: right;\">\n",
       "      <th></th>\n",
       "      <th>Timestamp</th>\n",
       "      <th>PM2.5</th>\n",
       "      <th>Year</th>\n",
       "      <th>Month</th>\n",
       "      <th>Hour</th>\n",
       "    </tr>\n",
       "  </thead>\n",
       "  <tbody>\n",
       "    <tr>\n",
       "      <th>0</th>\n",
       "      <td>2018-01-01 00:00:00</td>\n",
       "      <td>90.19</td>\n",
       "      <td>2018</td>\n",
       "      <td>1</td>\n",
       "      <td>0</td>\n",
       "    </tr>\n",
       "    <tr>\n",
       "      <th>1</th>\n",
       "      <td>2018-01-01 01:00:00</td>\n",
       "      <td>86.98</td>\n",
       "      <td>2018</td>\n",
       "      <td>1</td>\n",
       "      <td>1</td>\n",
       "    </tr>\n",
       "    <tr>\n",
       "      <th>2</th>\n",
       "      <td>2018-01-01 02:00:00</td>\n",
       "      <td>86.06</td>\n",
       "      <td>2018</td>\n",
       "      <td>1</td>\n",
       "      <td>2</td>\n",
       "    </tr>\n",
       "    <tr>\n",
       "      <th>3</th>\n",
       "      <td>2018-01-01 03:00:00</td>\n",
       "      <td>94.04</td>\n",
       "      <td>2018</td>\n",
       "      <td>1</td>\n",
       "      <td>3</td>\n",
       "    </tr>\n",
       "    <tr>\n",
       "      <th>4</th>\n",
       "      <td>2018-01-01 04:00:00</td>\n",
       "      <td>108.78</td>\n",
       "      <td>2018</td>\n",
       "      <td>1</td>\n",
       "      <td>4</td>\n",
       "    </tr>\n",
       "  </tbody>\n",
       "</table>\n",
       "</div>"
      ],
      "text/plain": [
       "            Timestamp   PM2.5  Year  Month  Hour\n",
       "0 2018-01-01 00:00:00   90.19  2018      1     0\n",
       "1 2018-01-01 01:00:00   86.98  2018      1     1\n",
       "2 2018-01-01 02:00:00   86.06  2018      1     2\n",
       "3 2018-01-01 03:00:00   94.04  2018      1     3\n",
       "4 2018-01-01 04:00:00  108.78  2018      1     4"
      ]
     },
     "execution_count": 94,
     "metadata": {},
     "output_type": "execute_result"
    }
   ],
   "source": [
    "data_air.head()"
   ]
  },
  {
   "cell_type": "code",
   "execution_count": 96,
   "id": "c72c6c7e-c8d4-457e-ae22-05a10e4e5fb6",
   "metadata": {},
   "outputs": [],
   "source": [
    "x = data_air[(data_air[\"PM2.5\"] >= 150.5) & (data_air[\"PM2.5\"] <= 250.4)]"
   ]
  },
  {
   "cell_type": "code",
   "execution_count": 97,
   "id": "177f2772-fdc1-4736-bd3b-3cd1a5d246ab",
   "metadata": {},
   "outputs": [
    {
     "data": {
      "text/html": [
       "<div>\n",
       "<style scoped>\n",
       "    .dataframe tbody tr th:only-of-type {\n",
       "        vertical-align: middle;\n",
       "    }\n",
       "\n",
       "    .dataframe tbody tr th {\n",
       "        vertical-align: top;\n",
       "    }\n",
       "\n",
       "    .dataframe thead th {\n",
       "        text-align: right;\n",
       "    }\n",
       "</style>\n",
       "<table border=\"1\" class=\"dataframe\">\n",
       "  <thead>\n",
       "    <tr style=\"text-align: right;\">\n",
       "      <th></th>\n",
       "      <th>Timestamp</th>\n",
       "      <th>PM2.5</th>\n",
       "      <th>Year</th>\n",
       "      <th>Month</th>\n",
       "      <th>Hour</th>\n",
       "    </tr>\n",
       "  </thead>\n",
       "  <tbody>\n",
       "    <tr>\n",
       "      <th>6</th>\n",
       "      <td>2018-01-06 17:00:00</td>\n",
       "      <td>150.89</td>\n",
       "      <td>2018</td>\n",
       "      <td>1</td>\n",
       "      <td>17</td>\n",
       "    </tr>\n",
       "    <tr>\n",
       "      <th>7</th>\n",
       "      <td>2018-11-07 21:00:00</td>\n",
       "      <td>245.63</td>\n",
       "      <td>2018</td>\n",
       "      <td>11</td>\n",
       "      <td>21</td>\n",
       "    </tr>\n",
       "    <tr>\n",
       "      <th>8</th>\n",
       "      <td>2018-11-08 00:00:00</td>\n",
       "      <td>175.19</td>\n",
       "      <td>2018</td>\n",
       "      <td>11</td>\n",
       "      <td>0</td>\n",
       "    </tr>\n",
       "    <tr>\n",
       "      <th>31</th>\n",
       "      <td>2018-11-07 22:00:00</td>\n",
       "      <td>232.03</td>\n",
       "      <td>2018</td>\n",
       "      <td>11</td>\n",
       "      <td>22</td>\n",
       "    </tr>\n",
       "    <tr>\n",
       "      <th>32</th>\n",
       "      <td>2018-11-08 01:00:00</td>\n",
       "      <td>169.15</td>\n",
       "      <td>2018</td>\n",
       "      <td>11</td>\n",
       "      <td>1</td>\n",
       "    </tr>\n",
       "    <tr>\n",
       "      <th>55</th>\n",
       "      <td>2018-11-07 20:00:00</td>\n",
       "      <td>223.21</td>\n",
       "      <td>2018</td>\n",
       "      <td>11</td>\n",
       "      <td>20</td>\n",
       "    </tr>\n",
       "    <tr>\n",
       "      <th>56</th>\n",
       "      <td>2018-11-08 03:00:00</td>\n",
       "      <td>160.34</td>\n",
       "      <td>2018</td>\n",
       "      <td>11</td>\n",
       "      <td>3</td>\n",
       "    </tr>\n",
       "    <tr>\n",
       "      <th>79</th>\n",
       "      <td>2018-11-07 18:00:00</td>\n",
       "      <td>212.56</td>\n",
       "      <td>2018</td>\n",
       "      <td>11</td>\n",
       "      <td>18</td>\n",
       "    </tr>\n",
       "    <tr>\n",
       "      <th>103</th>\n",
       "      <td>2018-11-07 19:00:00</td>\n",
       "      <td>207.41</td>\n",
       "      <td>2018</td>\n",
       "      <td>11</td>\n",
       "      <td>19</td>\n",
       "    </tr>\n",
       "    <tr>\n",
       "      <th>126</th>\n",
       "      <td>2018-11-07 17:00:00</td>\n",
       "      <td>183.19</td>\n",
       "      <td>2018</td>\n",
       "      <td>11</td>\n",
       "      <td>17</td>\n",
       "    </tr>\n",
       "    <tr>\n",
       "      <th>143</th>\n",
       "      <td>2018-11-07 23:00:00</td>\n",
       "      <td>173.67</td>\n",
       "      <td>2018</td>\n",
       "      <td>11</td>\n",
       "      <td>23</td>\n",
       "    </tr>\n",
       "    <tr>\n",
       "      <th>284</th>\n",
       "      <td>2018-01-13 16:00:00</td>\n",
       "      <td>165.45</td>\n",
       "      <td>2018</td>\n",
       "      <td>1</td>\n",
       "      <td>16</td>\n",
       "    </tr>\n",
       "    <tr>\n",
       "      <th>285</th>\n",
       "      <td>2018-01-13 17:00:00</td>\n",
       "      <td>177.58</td>\n",
       "      <td>2018</td>\n",
       "      <td>1</td>\n",
       "      <td>17</td>\n",
       "    </tr>\n",
       "    <tr>\n",
       "      <th>286</th>\n",
       "      <td>2018-01-13 18:00:00</td>\n",
       "      <td>175.32</td>\n",
       "      <td>2018</td>\n",
       "      <td>1</td>\n",
       "      <td>18</td>\n",
       "    </tr>\n",
       "    <tr>\n",
       "      <th>287</th>\n",
       "      <td>2018-01-13 19:00:00</td>\n",
       "      <td>166.60</td>\n",
       "      <td>2018</td>\n",
       "      <td>1</td>\n",
       "      <td>19</td>\n",
       "    </tr>\n",
       "    <tr>\n",
       "      <th>7578</th>\n",
       "      <td>2019-02-01 17:00:00</td>\n",
       "      <td>165.82</td>\n",
       "      <td>2019</td>\n",
       "      <td>2</td>\n",
       "      <td>17</td>\n",
       "    </tr>\n",
       "    <tr>\n",
       "      <th>7579</th>\n",
       "      <td>2019-02-01 18:00:00</td>\n",
       "      <td>157.99</td>\n",
       "      <td>2019</td>\n",
       "      <td>2</td>\n",
       "      <td>18</td>\n",
       "    </tr>\n",
       "    <tr>\n",
       "      <th>13697</th>\n",
       "      <td>2019-10-27 22:00:00</td>\n",
       "      <td>151.52</td>\n",
       "      <td>2019</td>\n",
       "      <td>10</td>\n",
       "      <td>22</td>\n",
       "    </tr>\n",
       "    <tr>\n",
       "      <th>13698</th>\n",
       "      <td>2019-10-27 23:00:00</td>\n",
       "      <td>219.07</td>\n",
       "      <td>2019</td>\n",
       "      <td>10</td>\n",
       "      <td>23</td>\n",
       "    </tr>\n",
       "    <tr>\n",
       "      <th>13699</th>\n",
       "      <td>2019-10-28 00:00:00</td>\n",
       "      <td>234.83</td>\n",
       "      <td>2019</td>\n",
       "      <td>10</td>\n",
       "      <td>0</td>\n",
       "    </tr>\n",
       "    <tr>\n",
       "      <th>13700</th>\n",
       "      <td>2019-10-28 01:00:00</td>\n",
       "      <td>230.05</td>\n",
       "      <td>2019</td>\n",
       "      <td>10</td>\n",
       "      <td>1</td>\n",
       "    </tr>\n",
       "    <tr>\n",
       "      <th>13701</th>\n",
       "      <td>2019-10-28 02:00:00</td>\n",
       "      <td>176.81</td>\n",
       "      <td>2019</td>\n",
       "      <td>10</td>\n",
       "      <td>2</td>\n",
       "    </tr>\n",
       "    <tr>\n",
       "      <th>22450</th>\n",
       "      <td>2020-11-14 18:00:00</td>\n",
       "      <td>183.39</td>\n",
       "      <td>2020</td>\n",
       "      <td>11</td>\n",
       "      <td>18</td>\n",
       "    </tr>\n",
       "    <tr>\n",
       "      <th>22451</th>\n",
       "      <td>2020-11-14 19:00:00</td>\n",
       "      <td>196.88</td>\n",
       "      <td>2020</td>\n",
       "      <td>11</td>\n",
       "      <td>19</td>\n",
       "    </tr>\n",
       "    <tr>\n",
       "      <th>22452</th>\n",
       "      <td>2020-11-14 20:00:00</td>\n",
       "      <td>178.61</td>\n",
       "      <td>2020</td>\n",
       "      <td>11</td>\n",
       "      <td>20</td>\n",
       "    </tr>\n",
       "    <tr>\n",
       "      <th>22455</th>\n",
       "      <td>2020-11-14 23:00:00</td>\n",
       "      <td>181.07</td>\n",
       "      <td>2020</td>\n",
       "      <td>11</td>\n",
       "      <td>23</td>\n",
       "    </tr>\n",
       "    <tr>\n",
       "      <th>22456</th>\n",
       "      <td>2020-11-15 00:00:00</td>\n",
       "      <td>193.80</td>\n",
       "      <td>2020</td>\n",
       "      <td>11</td>\n",
       "      <td>0</td>\n",
       "    </tr>\n",
       "    <tr>\n",
       "      <th>22457</th>\n",
       "      <td>2020-11-15 01:00:00</td>\n",
       "      <td>172.04</td>\n",
       "      <td>2020</td>\n",
       "      <td>11</td>\n",
       "      <td>1</td>\n",
       "    </tr>\n",
       "  </tbody>\n",
       "</table>\n",
       "</div>"
      ],
      "text/plain": [
       "                Timestamp   PM2.5  Year  Month  Hour\n",
       "6     2018-01-06 17:00:00  150.89  2018      1    17\n",
       "7     2018-11-07 21:00:00  245.63  2018     11    21\n",
       "8     2018-11-08 00:00:00  175.19  2018     11     0\n",
       "31    2018-11-07 22:00:00  232.03  2018     11    22\n",
       "32    2018-11-08 01:00:00  169.15  2018     11     1\n",
       "55    2018-11-07 20:00:00  223.21  2018     11    20\n",
       "56    2018-11-08 03:00:00  160.34  2018     11     3\n",
       "79    2018-11-07 18:00:00  212.56  2018     11    18\n",
       "103   2018-11-07 19:00:00  207.41  2018     11    19\n",
       "126   2018-11-07 17:00:00  183.19  2018     11    17\n",
       "143   2018-11-07 23:00:00  173.67  2018     11    23\n",
       "284   2018-01-13 16:00:00  165.45  2018      1    16\n",
       "285   2018-01-13 17:00:00  177.58  2018      1    17\n",
       "286   2018-01-13 18:00:00  175.32  2018      1    18\n",
       "287   2018-01-13 19:00:00  166.60  2018      1    19\n",
       "7578  2019-02-01 17:00:00  165.82  2019      2    17\n",
       "7579  2019-02-01 18:00:00  157.99  2019      2    18\n",
       "13697 2019-10-27 22:00:00  151.52  2019     10    22\n",
       "13698 2019-10-27 23:00:00  219.07  2019     10    23\n",
       "13699 2019-10-28 00:00:00  234.83  2019     10     0\n",
       "13700 2019-10-28 01:00:00  230.05  2019     10     1\n",
       "13701 2019-10-28 02:00:00  176.81  2019     10     2\n",
       "22450 2020-11-14 18:00:00  183.39  2020     11    18\n",
       "22451 2020-11-14 19:00:00  196.88  2020     11    19\n",
       "22452 2020-11-14 20:00:00  178.61  2020     11    20\n",
       "22455 2020-11-14 23:00:00  181.07  2020     11    23\n",
       "22456 2020-11-15 00:00:00  193.80  2020     11     0\n",
       "22457 2020-11-15 01:00:00  172.04  2020     11     1"
      ]
     },
     "execution_count": 97,
     "metadata": {},
     "output_type": "execute_result"
    }
   ],
   "source": [
    "x"
   ]
  },
  {
   "cell_type": "code",
   "execution_count": 98,
   "id": "1a2d31f5-c787-420e-9099-a6faa514565b",
   "metadata": {},
   "outputs": [
    {
     "data": {
      "text/plain": [
       "Month\n",
       "11    16\n",
       "1      5\n",
       "10     5\n",
       "2      2\n",
       "dtype: int64"
      ]
     },
     "execution_count": 98,
     "metadata": {},
     "output_type": "execute_result"
    }
   ],
   "source": [
    "x.value_counts(\"Month\")"
   ]
  },
  {
   "cell_type": "code",
   "execution_count": null,
   "id": "89ef195e-03c4-4e59-8ed1-3aad9c23097c",
   "metadata": {},
   "outputs": [],
   "source": [
    "#month in which the air quality is good/fresh"
   ]
  },
  {
   "cell_type": "code",
   "execution_count": 101,
   "id": "50f37048-ed71-4d56-803c-7cd5ce2382de",
   "metadata": {},
   "outputs": [],
   "source": [
    "y = data_air[(data_air[\"PM2.5\"] <= 12.0)]"
   ]
  },
  {
   "cell_type": "code",
   "execution_count": 102,
   "id": "02888ed9-7591-47e6-b44f-51ee83f99856",
   "metadata": {},
   "outputs": [
    {
     "data": {
      "text/html": [
       "<div>\n",
       "<style scoped>\n",
       "    .dataframe tbody tr th:only-of-type {\n",
       "        vertical-align: middle;\n",
       "    }\n",
       "\n",
       "    .dataframe tbody tr th {\n",
       "        vertical-align: top;\n",
       "    }\n",
       "\n",
       "    .dataframe thead th {\n",
       "        text-align: right;\n",
       "    }\n",
       "</style>\n",
       "<table border=\"1\" class=\"dataframe\">\n",
       "  <thead>\n",
       "    <tr style=\"text-align: right;\">\n",
       "      <th></th>\n",
       "      <th>Timestamp</th>\n",
       "      <th>PM2.5</th>\n",
       "      <th>Year</th>\n",
       "      <th>Month</th>\n",
       "      <th>Hour</th>\n",
       "    </tr>\n",
       "  </thead>\n",
       "  <tbody>\n",
       "    <tr>\n",
       "      <th>11423</th>\n",
       "      <td>2019-06-22 08:00:00</td>\n",
       "      <td>11.53</td>\n",
       "      <td>2019</td>\n",
       "      <td>6</td>\n",
       "      <td>8</td>\n",
       "    </tr>\n",
       "    <tr>\n",
       "      <th>11424</th>\n",
       "      <td>2019-06-22 09:00:00</td>\n",
       "      <td>10.31</td>\n",
       "      <td>2019</td>\n",
       "      <td>6</td>\n",
       "      <td>9</td>\n",
       "    </tr>\n",
       "    <tr>\n",
       "      <th>11471</th>\n",
       "      <td>2019-06-24 08:00:00</td>\n",
       "      <td>10.98</td>\n",
       "      <td>2019</td>\n",
       "      <td>6</td>\n",
       "      <td>8</td>\n",
       "    </tr>\n",
       "    <tr>\n",
       "      <th>11472</th>\n",
       "      <td>2019-06-24 09:00:00</td>\n",
       "      <td>11.64</td>\n",
       "      <td>2019</td>\n",
       "      <td>6</td>\n",
       "      <td>9</td>\n",
       "    </tr>\n",
       "    <tr>\n",
       "      <th>11535</th>\n",
       "      <td>2019-06-27 00:00:00</td>\n",
       "      <td>11.77</td>\n",
       "      <td>2019</td>\n",
       "      <td>6</td>\n",
       "      <td>0</td>\n",
       "    </tr>\n",
       "    <tr>\n",
       "      <th>11874</th>\n",
       "      <td>2019-07-13 09:00:00</td>\n",
       "      <td>7.02</td>\n",
       "      <td>2019</td>\n",
       "      <td>7</td>\n",
       "      <td>9</td>\n",
       "    </tr>\n",
       "    <tr>\n",
       "      <th>11875</th>\n",
       "      <td>2019-07-13 10:00:00</td>\n",
       "      <td>7.48</td>\n",
       "      <td>2019</td>\n",
       "      <td>7</td>\n",
       "      <td>10</td>\n",
       "    </tr>\n",
       "    <tr>\n",
       "      <th>11876</th>\n",
       "      <td>2019-07-13 11:00:00</td>\n",
       "      <td>7.61</td>\n",
       "      <td>2019</td>\n",
       "      <td>7</td>\n",
       "      <td>11</td>\n",
       "    </tr>\n",
       "    <tr>\n",
       "      <th>11879</th>\n",
       "      <td>2019-07-13 14:00:00</td>\n",
       "      <td>11.08</td>\n",
       "      <td>2019</td>\n",
       "      <td>7</td>\n",
       "      <td>14</td>\n",
       "    </tr>\n",
       "    <tr>\n",
       "      <th>11880</th>\n",
       "      <td>2019-07-13 15:00:00</td>\n",
       "      <td>10.21</td>\n",
       "      <td>2019</td>\n",
       "      <td>7</td>\n",
       "      <td>15</td>\n",
       "    </tr>\n",
       "    <tr>\n",
       "      <th>11881</th>\n",
       "      <td>2019-07-13 16:00:00</td>\n",
       "      <td>11.76</td>\n",
       "      <td>2019</td>\n",
       "      <td>7</td>\n",
       "      <td>16</td>\n",
       "    </tr>\n",
       "    <tr>\n",
       "      <th>12530</th>\n",
       "      <td>2019-08-25 03:00:00</td>\n",
       "      <td>11.71</td>\n",
       "      <td>2019</td>\n",
       "      <td>8</td>\n",
       "      <td>3</td>\n",
       "    </tr>\n",
       "    <tr>\n",
       "      <th>12542</th>\n",
       "      <td>2019-08-25 15:00:00</td>\n",
       "      <td>11.25</td>\n",
       "      <td>2019</td>\n",
       "      <td>8</td>\n",
       "      <td>15</td>\n",
       "    </tr>\n",
       "    <tr>\n",
       "      <th>12545</th>\n",
       "      <td>2019-08-25 18:00:00</td>\n",
       "      <td>10.68</td>\n",
       "      <td>2019</td>\n",
       "      <td>8</td>\n",
       "      <td>18</td>\n",
       "    </tr>\n",
       "    <tr>\n",
       "      <th>12626</th>\n",
       "      <td>2019-08-30 14:00:00</td>\n",
       "      <td>11.02</td>\n",
       "      <td>2019</td>\n",
       "      <td>8</td>\n",
       "      <td>14</td>\n",
       "    </tr>\n",
       "    <tr>\n",
       "      <th>12627</th>\n",
       "      <td>2019-08-30 15:00:00</td>\n",
       "      <td>9.93</td>\n",
       "      <td>2019</td>\n",
       "      <td>8</td>\n",
       "      <td>15</td>\n",
       "    </tr>\n",
       "    <tr>\n",
       "      <th>12628</th>\n",
       "      <td>2019-08-30 16:00:00</td>\n",
       "      <td>9.55</td>\n",
       "      <td>2019</td>\n",
       "      <td>8</td>\n",
       "      <td>16</td>\n",
       "    </tr>\n",
       "    <tr>\n",
       "      <th>12629</th>\n",
       "      <td>2019-08-30 17:00:00</td>\n",
       "      <td>10.28</td>\n",
       "      <td>2019</td>\n",
       "      <td>8</td>\n",
       "      <td>17</td>\n",
       "    </tr>\n",
       "    <tr>\n",
       "      <th>12630</th>\n",
       "      <td>2019-08-30 18:00:00</td>\n",
       "      <td>10.33</td>\n",
       "      <td>2019</td>\n",
       "      <td>8</td>\n",
       "      <td>18</td>\n",
       "    </tr>\n",
       "    <tr>\n",
       "      <th>12631</th>\n",
       "      <td>2019-08-30 19:00:00</td>\n",
       "      <td>10.82</td>\n",
       "      <td>2019</td>\n",
       "      <td>8</td>\n",
       "      <td>19</td>\n",
       "    </tr>\n",
       "    <tr>\n",
       "      <th>12632</th>\n",
       "      <td>2019-08-30 20:00:00</td>\n",
       "      <td>10.72</td>\n",
       "      <td>2019</td>\n",
       "      <td>8</td>\n",
       "      <td>20</td>\n",
       "    </tr>\n",
       "    <tr>\n",
       "      <th>12633</th>\n",
       "      <td>2019-08-30 21:00:00</td>\n",
       "      <td>11.38</td>\n",
       "      <td>2019</td>\n",
       "      <td>8</td>\n",
       "      <td>21</td>\n",
       "    </tr>\n",
       "    <tr>\n",
       "      <th>12634</th>\n",
       "      <td>2019-08-30 22:00:00</td>\n",
       "      <td>11.18</td>\n",
       "      <td>2019</td>\n",
       "      <td>8</td>\n",
       "      <td>22</td>\n",
       "    </tr>\n",
       "    <tr>\n",
       "      <th>12635</th>\n",
       "      <td>2019-08-30 23:00:00</td>\n",
       "      <td>12.00</td>\n",
       "      <td>2019</td>\n",
       "      <td>8</td>\n",
       "      <td>23</td>\n",
       "    </tr>\n",
       "    <tr>\n",
       "      <th>12636</th>\n",
       "      <td>2019-08-31 00:00:00</td>\n",
       "      <td>10.76</td>\n",
       "      <td>2019</td>\n",
       "      <td>8</td>\n",
       "      <td>0</td>\n",
       "    </tr>\n",
       "    <tr>\n",
       "      <th>12641</th>\n",
       "      <td>2019-08-31 05:00:00</td>\n",
       "      <td>11.88</td>\n",
       "      <td>2019</td>\n",
       "      <td>8</td>\n",
       "      <td>5</td>\n",
       "    </tr>\n",
       "    <tr>\n",
       "      <th>12661</th>\n",
       "      <td>2019-01-09 01:00:00</td>\n",
       "      <td>10.90</td>\n",
       "      <td>2019</td>\n",
       "      <td>1</td>\n",
       "      <td>1</td>\n",
       "    </tr>\n",
       "    <tr>\n",
       "      <th>12663</th>\n",
       "      <td>2019-01-09 03:00:00</td>\n",
       "      <td>10.99</td>\n",
       "      <td>2019</td>\n",
       "      <td>1</td>\n",
       "      <td>3</td>\n",
       "    </tr>\n",
       "    <tr>\n",
       "      <th>12664</th>\n",
       "      <td>2019-01-09 04:00:00</td>\n",
       "      <td>11.43</td>\n",
       "      <td>2019</td>\n",
       "      <td>1</td>\n",
       "      <td>4</td>\n",
       "    </tr>\n",
       "    <tr>\n",
       "      <th>12745</th>\n",
       "      <td>2019-04-09 13:00:00</td>\n",
       "      <td>8.74</td>\n",
       "      <td>2019</td>\n",
       "      <td>4</td>\n",
       "      <td>13</td>\n",
       "    </tr>\n",
       "    <tr>\n",
       "      <th>12746</th>\n",
       "      <td>2019-04-09 14:00:00</td>\n",
       "      <td>8.40</td>\n",
       "      <td>2019</td>\n",
       "      <td>4</td>\n",
       "      <td>14</td>\n",
       "    </tr>\n",
       "    <tr>\n",
       "      <th>12747</th>\n",
       "      <td>2019-04-09 15:00:00</td>\n",
       "      <td>8.77</td>\n",
       "      <td>2019</td>\n",
       "      <td>4</td>\n",
       "      <td>15</td>\n",
       "    </tr>\n",
       "    <tr>\n",
       "      <th>12758</th>\n",
       "      <td>2019-05-09 03:00:00</td>\n",
       "      <td>11.45</td>\n",
       "      <td>2019</td>\n",
       "      <td>5</td>\n",
       "      <td>3</td>\n",
       "    </tr>\n",
       "    <tr>\n",
       "      <th>12759</th>\n",
       "      <td>2019-05-09 04:00:00</td>\n",
       "      <td>11.90</td>\n",
       "      <td>2019</td>\n",
       "      <td>5</td>\n",
       "      <td>4</td>\n",
       "    </tr>\n",
       "    <tr>\n",
       "      <th>20477</th>\n",
       "      <td>2020-08-21 21:00:00</td>\n",
       "      <td>11.94</td>\n",
       "      <td>2020</td>\n",
       "      <td>8</td>\n",
       "      <td>21</td>\n",
       "    </tr>\n",
       "    <tr>\n",
       "      <th>20479</th>\n",
       "      <td>2020-08-21 23:00:00</td>\n",
       "      <td>11.99</td>\n",
       "      <td>2020</td>\n",
       "      <td>8</td>\n",
       "      <td>23</td>\n",
       "    </tr>\n",
       "    <tr>\n",
       "      <th>20481</th>\n",
       "      <td>2020-08-22 01:00:00</td>\n",
       "      <td>11.79</td>\n",
       "      <td>2020</td>\n",
       "      <td>8</td>\n",
       "      <td>1</td>\n",
       "    </tr>\n",
       "    <tr>\n",
       "      <th>20495</th>\n",
       "      <td>2020-08-22 16:00:00</td>\n",
       "      <td>10.45</td>\n",
       "      <td>2020</td>\n",
       "      <td>8</td>\n",
       "      <td>16</td>\n",
       "    </tr>\n",
       "    <tr>\n",
       "      <th>20517</th>\n",
       "      <td>2020-08-23 14:00:00</td>\n",
       "      <td>11.08</td>\n",
       "      <td>2020</td>\n",
       "      <td>8</td>\n",
       "      <td>14</td>\n",
       "    </tr>\n",
       "    <tr>\n",
       "      <th>20518</th>\n",
       "      <td>2020-08-23 15:00:00</td>\n",
       "      <td>11.78</td>\n",
       "      <td>2020</td>\n",
       "      <td>8</td>\n",
       "      <td>15</td>\n",
       "    </tr>\n",
       "    <tr>\n",
       "      <th>20519</th>\n",
       "      <td>2020-08-23 16:00:00</td>\n",
       "      <td>10.84</td>\n",
       "      <td>2020</td>\n",
       "      <td>8</td>\n",
       "      <td>16</td>\n",
       "    </tr>\n",
       "    <tr>\n",
       "      <th>20520</th>\n",
       "      <td>2020-08-23 17:00:00</td>\n",
       "      <td>10.63</td>\n",
       "      <td>2020</td>\n",
       "      <td>8</td>\n",
       "      <td>17</td>\n",
       "    </tr>\n",
       "    <tr>\n",
       "      <th>20521</th>\n",
       "      <td>2020-08-23 18:00:00</td>\n",
       "      <td>11.09</td>\n",
       "      <td>2020</td>\n",
       "      <td>8</td>\n",
       "      <td>18</td>\n",
       "    </tr>\n",
       "    <tr>\n",
       "      <th>20543</th>\n",
       "      <td>2020-08-24 16:00:00</td>\n",
       "      <td>11.15</td>\n",
       "      <td>2020</td>\n",
       "      <td>8</td>\n",
       "      <td>16</td>\n",
       "    </tr>\n",
       "    <tr>\n",
       "      <th>20544</th>\n",
       "      <td>2020-08-24 17:00:00</td>\n",
       "      <td>10.77</td>\n",
       "      <td>2020</td>\n",
       "      <td>8</td>\n",
       "      <td>17</td>\n",
       "    </tr>\n",
       "    <tr>\n",
       "      <th>20545</th>\n",
       "      <td>2020-08-24 18:00:00</td>\n",
       "      <td>10.60</td>\n",
       "      <td>2020</td>\n",
       "      <td>8</td>\n",
       "      <td>18</td>\n",
       "    </tr>\n",
       "    <tr>\n",
       "      <th>20546</th>\n",
       "      <td>2020-08-24 19:00:00</td>\n",
       "      <td>11.47</td>\n",
       "      <td>2020</td>\n",
       "      <td>8</td>\n",
       "      <td>19</td>\n",
       "    </tr>\n",
       "    <tr>\n",
       "      <th>20547</th>\n",
       "      <td>2020-08-24 20:00:00</td>\n",
       "      <td>11.56</td>\n",
       "      <td>2020</td>\n",
       "      <td>8</td>\n",
       "      <td>20</td>\n",
       "    </tr>\n",
       "    <tr>\n",
       "      <th>20548</th>\n",
       "      <td>2020-08-24 21:00:00</td>\n",
       "      <td>11.22</td>\n",
       "      <td>2020</td>\n",
       "      <td>8</td>\n",
       "      <td>21</td>\n",
       "    </tr>\n",
       "    <tr>\n",
       "      <th>20549</th>\n",
       "      <td>2020-08-24 22:00:00</td>\n",
       "      <td>10.75</td>\n",
       "      <td>2020</td>\n",
       "      <td>8</td>\n",
       "      <td>22</td>\n",
       "    </tr>\n",
       "    <tr>\n",
       "      <th>20550</th>\n",
       "      <td>2020-08-24 23:00:00</td>\n",
       "      <td>11.30</td>\n",
       "      <td>2020</td>\n",
       "      <td>8</td>\n",
       "      <td>23</td>\n",
       "    </tr>\n",
       "    <tr>\n",
       "      <th>20641</th>\n",
       "      <td>2020-08-31 00:00:00</td>\n",
       "      <td>11.93</td>\n",
       "      <td>2020</td>\n",
       "      <td>8</td>\n",
       "      <td>0</td>\n",
       "    </tr>\n",
       "  </tbody>\n",
       "</table>\n",
       "</div>"
      ],
      "text/plain": [
       "                Timestamp  PM2.5  Year  Month  Hour\n",
       "11423 2019-06-22 08:00:00  11.53  2019      6     8\n",
       "11424 2019-06-22 09:00:00  10.31  2019      6     9\n",
       "11471 2019-06-24 08:00:00  10.98  2019      6     8\n",
       "11472 2019-06-24 09:00:00  11.64  2019      6     9\n",
       "11535 2019-06-27 00:00:00  11.77  2019      6     0\n",
       "11874 2019-07-13 09:00:00   7.02  2019      7     9\n",
       "11875 2019-07-13 10:00:00   7.48  2019      7    10\n",
       "11876 2019-07-13 11:00:00   7.61  2019      7    11\n",
       "11879 2019-07-13 14:00:00  11.08  2019      7    14\n",
       "11880 2019-07-13 15:00:00  10.21  2019      7    15\n",
       "11881 2019-07-13 16:00:00  11.76  2019      7    16\n",
       "12530 2019-08-25 03:00:00  11.71  2019      8     3\n",
       "12542 2019-08-25 15:00:00  11.25  2019      8    15\n",
       "12545 2019-08-25 18:00:00  10.68  2019      8    18\n",
       "12626 2019-08-30 14:00:00  11.02  2019      8    14\n",
       "12627 2019-08-30 15:00:00   9.93  2019      8    15\n",
       "12628 2019-08-30 16:00:00   9.55  2019      8    16\n",
       "12629 2019-08-30 17:00:00  10.28  2019      8    17\n",
       "12630 2019-08-30 18:00:00  10.33  2019      8    18\n",
       "12631 2019-08-30 19:00:00  10.82  2019      8    19\n",
       "12632 2019-08-30 20:00:00  10.72  2019      8    20\n",
       "12633 2019-08-30 21:00:00  11.38  2019      8    21\n",
       "12634 2019-08-30 22:00:00  11.18  2019      8    22\n",
       "12635 2019-08-30 23:00:00  12.00  2019      8    23\n",
       "12636 2019-08-31 00:00:00  10.76  2019      8     0\n",
       "12641 2019-08-31 05:00:00  11.88  2019      8     5\n",
       "12661 2019-01-09 01:00:00  10.90  2019      1     1\n",
       "12663 2019-01-09 03:00:00  10.99  2019      1     3\n",
       "12664 2019-01-09 04:00:00  11.43  2019      1     4\n",
       "12745 2019-04-09 13:00:00   8.74  2019      4    13\n",
       "12746 2019-04-09 14:00:00   8.40  2019      4    14\n",
       "12747 2019-04-09 15:00:00   8.77  2019      4    15\n",
       "12758 2019-05-09 03:00:00  11.45  2019      5     3\n",
       "12759 2019-05-09 04:00:00  11.90  2019      5     4\n",
       "20477 2020-08-21 21:00:00  11.94  2020      8    21\n",
       "20479 2020-08-21 23:00:00  11.99  2020      8    23\n",
       "20481 2020-08-22 01:00:00  11.79  2020      8     1\n",
       "20495 2020-08-22 16:00:00  10.45  2020      8    16\n",
       "20517 2020-08-23 14:00:00  11.08  2020      8    14\n",
       "20518 2020-08-23 15:00:00  11.78  2020      8    15\n",
       "20519 2020-08-23 16:00:00  10.84  2020      8    16\n",
       "20520 2020-08-23 17:00:00  10.63  2020      8    17\n",
       "20521 2020-08-23 18:00:00  11.09  2020      8    18\n",
       "20543 2020-08-24 16:00:00  11.15  2020      8    16\n",
       "20544 2020-08-24 17:00:00  10.77  2020      8    17\n",
       "20545 2020-08-24 18:00:00  10.60  2020      8    18\n",
       "20546 2020-08-24 19:00:00  11.47  2020      8    19\n",
       "20547 2020-08-24 20:00:00  11.56  2020      8    20\n",
       "20548 2020-08-24 21:00:00  11.22  2020      8    21\n",
       "20549 2020-08-24 22:00:00  10.75  2020      8    22\n",
       "20550 2020-08-24 23:00:00  11.30  2020      8    23\n",
       "20641 2020-08-31 00:00:00  11.93  2020      8     0"
      ]
     },
     "execution_count": 102,
     "metadata": {},
     "output_type": "execute_result"
    }
   ],
   "source": [
    "y"
   ]
  },
  {
   "cell_type": "code",
   "execution_count": 104,
   "id": "19eb9bc8-1cf9-4b41-8029-fc44fec52e73",
   "metadata": {},
   "outputs": [
    {
     "data": {
      "text/plain": [
       "Month\n",
       "8    33\n",
       "7     6\n",
       "6     5\n",
       "1     3\n",
       "4     3\n",
       "5     2\n",
       "dtype: int64"
      ]
     },
     "execution_count": 104,
     "metadata": {},
     "output_type": "execute_result"
    }
   ],
   "source": [
    "y.value_counts(\"Month\")"
   ]
  },
  {
   "cell_type": "code",
   "execution_count": null,
   "id": "a04aeb2c-6f45-4592-804a-5c26b04a474c",
   "metadata": {},
   "outputs": [],
   "source": [
    "# how many times AQI's recorded moderate"
   ]
  },
  {
   "cell_type": "code",
   "execution_count": 108,
   "id": "e92f3c5f-06bc-4969-91cd-e9db470a12a3",
   "metadata": {},
   "outputs": [],
   "source": [
    "z = data_air[(data_air[\"Year\"] == 2018) & (data_air[\"PM2.5\"] >= 12.1) & (data_air[\"PM2.5\"] <= 35.4)]"
   ]
  },
  {
   "cell_type": "code",
   "execution_count": 109,
   "id": "52f6aac6-aaf3-4d2c-9af3-cf5da4904a81",
   "metadata": {},
   "outputs": [
    {
     "data": {
      "text/html": [
       "<div>\n",
       "<style scoped>\n",
       "    .dataframe tbody tr th:only-of-type {\n",
       "        vertical-align: middle;\n",
       "    }\n",
       "\n",
       "    .dataframe tbody tr th {\n",
       "        vertical-align: top;\n",
       "    }\n",
       "\n",
       "    .dataframe thead th {\n",
       "        text-align: right;\n",
       "    }\n",
       "</style>\n",
       "<table border=\"1\" class=\"dataframe\">\n",
       "  <thead>\n",
       "    <tr style=\"text-align: right;\">\n",
       "      <th></th>\n",
       "      <th>Timestamp</th>\n",
       "      <th>PM2.5</th>\n",
       "      <th>Year</th>\n",
       "      <th>Month</th>\n",
       "      <th>Hour</th>\n",
       "    </tr>\n",
       "  </thead>\n",
       "  <tbody>\n",
       "    <tr>\n",
       "      <th>1820</th>\n",
       "      <td>2018-01-04 04:00:00</td>\n",
       "      <td>33.34</td>\n",
       "      <td>2018</td>\n",
       "      <td>1</td>\n",
       "      <td>4</td>\n",
       "    </tr>\n",
       "    <tr>\n",
       "      <th>2038</th>\n",
       "      <td>2018-12-04 00:00:00</td>\n",
       "      <td>35.39</td>\n",
       "      <td>2018</td>\n",
       "      <td>12</td>\n",
       "      <td>0</td>\n",
       "    </tr>\n",
       "    <tr>\n",
       "      <th>2215</th>\n",
       "      <td>2018-04-19 13:00:00</td>\n",
       "      <td>28.90</td>\n",
       "      <td>2018</td>\n",
       "      <td>4</td>\n",
       "      <td>13</td>\n",
       "    </tr>\n",
       "    <tr>\n",
       "      <th>2306</th>\n",
       "      <td>2018-04-23 09:00:00</td>\n",
       "      <td>34.83</td>\n",
       "      <td>2018</td>\n",
       "      <td>4</td>\n",
       "      <td>9</td>\n",
       "    </tr>\n",
       "    <tr>\n",
       "      <th>2307</th>\n",
       "      <td>2018-04-23 11:00:00</td>\n",
       "      <td>33.50</td>\n",
       "      <td>2018</td>\n",
       "      <td>4</td>\n",
       "      <td>11</td>\n",
       "    </tr>\n",
       "    <tr>\n",
       "      <th>...</th>\n",
       "      <td>...</td>\n",
       "      <td>...</td>\n",
       "      <td>...</td>\n",
       "      <td>...</td>\n",
       "      <td>...</td>\n",
       "    </tr>\n",
       "    <tr>\n",
       "      <th>9981</th>\n",
       "      <td>2018-06-28 06:00:00</td>\n",
       "      <td>19.75</td>\n",
       "      <td>2018</td>\n",
       "      <td>6</td>\n",
       "      <td>6</td>\n",
       "    </tr>\n",
       "    <tr>\n",
       "      <th>9982</th>\n",
       "      <td>2018-07-17 07:00:00</td>\n",
       "      <td>19.27</td>\n",
       "      <td>2018</td>\n",
       "      <td>7</td>\n",
       "      <td>7</td>\n",
       "    </tr>\n",
       "    <tr>\n",
       "      <th>9983</th>\n",
       "      <td>2018-07-16 08:00:00</td>\n",
       "      <td>18.96</td>\n",
       "      <td>2018</td>\n",
       "      <td>7</td>\n",
       "      <td>8</td>\n",
       "    </tr>\n",
       "    <tr>\n",
       "      <th>10004</th>\n",
       "      <td>2018-08-25 06:00:00</td>\n",
       "      <td>17.45</td>\n",
       "      <td>2018</td>\n",
       "      <td>8</td>\n",
       "      <td>6</td>\n",
       "    </tr>\n",
       "    <tr>\n",
       "      <th>10006</th>\n",
       "      <td>2018-07-17 08:00:00</td>\n",
       "      <td>18.77</td>\n",
       "      <td>2018</td>\n",
       "      <td>7</td>\n",
       "      <td>8</td>\n",
       "    </tr>\n",
       "  </tbody>\n",
       "</table>\n",
       "<p>2239 rows × 5 columns</p>\n",
       "</div>"
      ],
      "text/plain": [
       "                Timestamp  PM2.5  Year  Month  Hour\n",
       "1820  2018-01-04 04:00:00  33.34  2018      1     4\n",
       "2038  2018-12-04 00:00:00  35.39  2018     12     0\n",
       "2215  2018-04-19 13:00:00  28.90  2018      4    13\n",
       "2306  2018-04-23 09:00:00  34.83  2018      4     9\n",
       "2307  2018-04-23 11:00:00  33.50  2018      4    11\n",
       "...                   ...    ...   ...    ...   ...\n",
       "9981  2018-06-28 06:00:00  19.75  2018      6     6\n",
       "9982  2018-07-17 07:00:00  19.27  2018      7     7\n",
       "9983  2018-07-16 08:00:00  18.96  2018      7     8\n",
       "10004 2018-08-25 06:00:00  17.45  2018      8     6\n",
       "10006 2018-07-17 08:00:00  18.77  2018      7     8\n",
       "\n",
       "[2239 rows x 5 columns]"
      ]
     },
     "execution_count": 109,
     "metadata": {},
     "output_type": "execute_result"
    }
   ],
   "source": [
    "z"
   ]
  },
  {
   "cell_type": "code",
   "execution_count": 111,
   "id": "7be0e003-d895-4f44-9006-b5ae92d58eb7",
   "metadata": {},
   "outputs": [
    {
     "data": {
      "text/plain": [
       "array([2018], dtype=int64)"
      ]
     },
     "execution_count": 111,
     "metadata": {},
     "output_type": "execute_result"
    }
   ],
   "source": [
    "z.Year.unique()"
   ]
  },
  {
   "cell_type": "code",
   "execution_count": 113,
   "id": "0901887e-a61b-4c67-ac1f-1bccaeee1418",
   "metadata": {},
   "outputs": [
    {
     "data": {
      "text/plain": [
       "1820     33.34\n",
       "2038     35.39\n",
       "2215     28.90\n",
       "2306     34.83\n",
       "2307     33.50\n",
       "         ...  \n",
       "9981     19.75\n",
       "9982     19.27\n",
       "9983     18.96\n",
       "10004    17.45\n",
       "10006    18.77\n",
       "Name: PM2.5, Length: 2239, dtype: float64"
      ]
     },
     "execution_count": 113,
     "metadata": {},
     "output_type": "execute_result"
    }
   ],
   "source": [
    "z[\"PM2.5\"]"
   ]
  },
  {
   "cell_type": "code",
   "execution_count": null,
   "id": "d81decda-96b3-4c0a-9c62-0eb659e24997",
   "metadata": {},
   "outputs": [],
   "source": [
    "# weather condition in the of january and july"
   ]
  },
  {
   "cell_type": "code",
   "execution_count": 115,
   "id": "5c67e19f-f4a2-4993-b327-7ad613f5fc14",
   "metadata": {},
   "outputs": [
    {
     "data": {
      "text/plain": [
       "65.82906685236783"
      ]
     },
     "execution_count": 115,
     "metadata": {},
     "output_type": "execute_result"
    }
   ],
   "source": [
    "data_air[data_air[\"Month\"] == 1][\"PM2.5\"].mean()               # unhealthy air"
   ]
  },
  {
   "cell_type": "code",
   "execution_count": 117,
   "id": "3a952f05-3a13-4d54-8855-ec56c68c65f5",
   "metadata": {},
   "outputs": [
    {
     "data": {
      "text/plain": [
       "31.884161466458643"
      ]
     },
     "execution_count": 117,
     "metadata": {},
     "output_type": "execute_result"
    }
   ],
   "source": [
    "data_air[data_air[\"Month\"] == 7][\"PM2.5\"].mean()"
   ]
  },
  {
   "cell_type": "code",
   "execution_count": null,
   "id": "9df87093-4582-467c-a7ff-30d814d3bf4c",
   "metadata": {},
   "outputs": [],
   "source": []
  }
 ],
 "metadata": {
  "kernelspec": {
   "display_name": "Python 3 (ipykernel)",
   "language": "python",
   "name": "python3"
  },
  "language_info": {
   "codemirror_mode": {
    "name": "ipython",
    "version": 3
   },
   "file_extension": ".py",
   "mimetype": "text/x-python",
   "name": "python",
   "nbconvert_exporter": "python",
   "pygments_lexer": "ipython3",
   "version": "3.9.13"
  }
 },
 "nbformat": 4,
 "nbformat_minor": 5
}
